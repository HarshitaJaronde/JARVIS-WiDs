{
 "cells": [
  {
   "cell_type": "code",
   "execution_count": 1,
   "id": "15a377f3-3fb9-441f-ba02-9ad996795bff",
   "metadata": {},
   "outputs": [],
   "source": [
    "import numpy as np"
   ]
  },
  {
   "cell_type": "code",
   "execution_count": 3,
   "id": "01a2bd9c-0b9e-4e6e-8195-be9d1883228f",
   "metadata": {},
   "outputs": [
    {
     "name": "stdout",
     "output_type": "stream",
     "text": [
      "[[27 92 10 83 44]\n",
      " [53 58 74 79 83]\n",
      " [40 20 41 58 29]\n",
      " [42 12 51  4 46]\n",
      " [28 26 78 46 74]]\n"
     ]
    }
   ],
   "source": [
    "a=np.random.randint(1,100,(5,5))\n",
    "print(a)"
   ]
  },
  {
   "cell_type": "code",
   "execution_count": 14,
   "id": "b1bfb6e2-d3f2-471a-9dc3-e43e2f384372",
   "metadata": {},
   "outputs": [
    {
     "name": "stdout",
     "output_type": "stream",
     "text": [
      "The middle element of this array is 41\n"
     ]
    }
   ],
   "source": [
    "print(\"The middle element of this array is\", a[2,2])"
   ]
  },
  {
   "cell_type": "code",
   "execution_count": 9,
   "id": "ee0b5fab-5c0a-4c1a-8342-f2985872b1f7",
   "metadata": {},
   "outputs": [],
   "source": [
    "m=a.mean(axis=1)"
   ]
  },
  {
   "cell_type": "code",
   "execution_count": 12,
   "id": "b571483f-8b3c-4d19-b7d9-e97a5a15f9fd",
   "metadata": {},
   "outputs": [
    {
     "name": "stdout",
     "output_type": "stream",
     "text": [
      "The mean of each row of the array is [51.2 69.4 37.6 31.  50.4].\n"
     ]
    }
   ],
   "source": [
    "print(f'The mean of each row of the array is {m}.')"
   ]
  },
  {
   "cell_type": "code",
   "execution_count": 26,
   "id": "119849e3-0d73-47de-882e-e9329b176209",
   "metadata": {},
   "outputs": [
    {
     "name": "stdout",
     "output_type": "stream",
     "text": [
      "47.92\n",
      "[92 83 53 58 74 79 83 58 51 78 74]\n"
     ]
    }
   ],
   "source": [
    "sum=a.sum()\n",
    "overall_mean=sum/25\n",
    "b=a[a>overall_mean]\n",
    "print(overall_mean)\n",
    "print(b)"
   ]
  },
  {
   "cell_type": "code",
   "execution_count": 58,
   "id": "1f0b5753-328d-4abc-bc3a-72b00c4fb490",
   "metadata": {},
   "outputs": [
    {
     "name": "stdout",
     "output_type": "stream",
     "text": [
      "[np.int64(1)]\n"
     ]
    }
   ],
   "source": [
    "def numpy_spiral_order(matrix):\n",
    "    list=[]\n",
    "    left=0\n",
    "    right=len(matrix)-1\n",
    "    top=0\n",
    "    down=len(matrix[0])-1\n",
    "    r=0\n",
    "    while left<=right and top<=down:\n",
    "        if r==0:\n",
    "            for i in range(left,right):\n",
    "                list.append(matrix[top,i])\n",
    "        top+=1\n",
    "        if r==1:\n",
    "            for i in range(top,down):\n",
    "                list.append(matrix[i,right])\n",
    "        right-=1\n",
    "        if r==2:\n",
    "            for i in range(right,left,-1):\n",
    "                list.append(matrix[down,i])\n",
    "        down-=1\n",
    "        if r==3:\n",
    "            for i in range(down,top,-1):\n",
    "                list.append(matrix[i,left])\n",
    "        left+=1\n",
    "        r=(r+1)%4\n",
    "\n",
    "    return list\n",
    "matrix=np.array([[1,2,3],[4,5,6],[7,8,9]])\n",
    "\n",
    "numpy_spiral_order(matrix)\n",
    "\n",
    "        \n",
    "        \n",
    "        \n",
    "                \n",
    "    "
   ]
  },
  {
   "cell_type": "raw",
   "id": "d9a81666-b26b-4800-903c-f1821b0f3181",
   "metadata": {},
   "source": [
    "\n"
   ]
  },
  {
   "cell_type": "code",
   "execution_count": 56,
   "id": "ce197512-4def-4def-a5ef-7af376b2c84d",
   "metadata": {},
   "outputs": [
    {
     "data": {
      "text/plain": [
       "[]"
      ]
     },
     "execution_count": 56,
     "metadata": {},
     "output_type": "execute_result"
    }
   ],
   "source": [
    "\n"
   ]
  }
 ],
 "metadata": {
  "kernelspec": {
   "display_name": "Python 3 (ipykernel)",
   "language": "python",
   "name": "python3"
  },
  "language_info": {
   "codemirror_mode": {
    "name": "ipython",
    "version": 3
   },
   "file_extension": ".py",
   "mimetype": "text/x-python",
   "name": "python",
   "nbconvert_exporter": "python",
   "pygments_lexer": "ipython3",
   "version": "3.13.1"
  }
 },
 "nbformat": 4,
 "nbformat_minor": 5
}
